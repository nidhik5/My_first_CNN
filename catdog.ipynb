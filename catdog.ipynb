{
  "cells": [
    {
      "cell_type": "code",
      "execution_count": null,
      "metadata": {
        "id": "or9aEMTBPyuS"
      },
      "outputs": [],
      "source": [
        "import tensorflow as tf\n",
        "from tensorflow.keras import Sequential\n",
        "from tensorflow.keras.layers import Conv2D, Dense, MaxPool2D, Flatten, Dropout\n",
        "import matplotlib.pyplot as plt \n",
        "import seaborn as sns"
      ]
    },
    {
      "cell_type": "code",
      "execution_count": null,
      "metadata": {
        "colab": {
          "base_uri": "https://localhost:8080/"
        },
        "id": "pb03Yv0NP7yb",
        "outputId": "8d302194-8078-4f9c-a28b-3bf03dd6a36f"
      },
      "outputs": [
        {
          "output_type": "stream",
          "name": "stdout",
          "text": [
            "Drive already mounted at /content/drive; to attempt to forcibly remount, call drive.mount(\"/content/drive\", force_remount=True).\n"
          ]
        }
      ],
      "source": [
        "from google.colab import drive\n",
        "drive.mount('/content/drive')"
      ]
    },
    {
      "cell_type": "code",
      "execution_count": null,
      "metadata": {
        "id": "l-z3JStHOwZ0"
      },
      "outputs": [],
      "source": [
        "train_dir='//content//drive//MyDrive//Colab Notebooks//CatDog//training_set//training_set'"
      ]
    },
    {
      "cell_type": "code",
      "execution_count": null,
      "metadata": {
        "id": "EOaFvtr5Owc0"
      },
      "outputs": [],
      "source": [
        "test_dir='//content//drive//MyDrive//Colab Notebooks//CatDog//test_set//test_set'"
      ]
    },
    {
      "cell_type": "code",
      "execution_count": null,
      "metadata": {
        "id": "qjBNS4zsP2ih"
      },
      "outputs": [],
      "source": [
        "import tensorflow.keras.backend as k"
      ]
    },
    {
      "cell_type": "code",
      "execution_count": null,
      "metadata": {
        "colab": {
          "base_uri": "https://localhost:8080/",
          "height": 36
        },
        "id": "1FLe9a18P2mI",
        "outputId": "d3684567-767e-40f7-cf3e-c36bb0c44ad4"
      },
      "outputs": [
        {
          "output_type": "execute_result",
          "data": {
            "text/plain": [
              "'channels_last'"
            ],
            "application/vnd.google.colaboratory.intrinsic+json": {
              "type": "string"
            }
          },
          "metadata": {},
          "execution_count": 18
        }
      ],
      "source": [
        "k.image_data_format()"
      ]
    },
    {
      "cell_type": "code",
      "execution_count": null,
      "metadata": {
        "id": "6u_LuGwIQW2k"
      },
      "outputs": [],
      "source": [
        "from tensorflow.keras.preprocessing.image import ImageDataGenerator"
      ]
    },
    {
      "cell_type": "code",
      "execution_count": null,
      "metadata": {
        "id": "TVavfgoYQnL_"
      },
      "outputs": [],
      "source": [
        "train_datagen=ImageDataGenerator(rescale=1/255,rotation_range=0.2, zoom_range=0.2, vertical_flip=True)"
      ]
    },
    {
      "cell_type": "code",
      "execution_count": null,
      "metadata": {
        "colab": {
          "base_uri": "https://localhost:8080/"
        },
        "id": "ZHL1SaSWRPnr",
        "outputId": "82631568-d219-42e6-ff96-68f8c6ecc21a"
      },
      "outputs": [
        {
          "output_type": "stream",
          "name": "stdout",
          "text": [
            "Found 8083 images belonging to 2 classes.\n"
          ]
        }
      ],
      "source": [
        "train_data=train_datagen.flow_from_directory(directory=train_dir,class_mode='binary', target_size=(150,150))"
      ]
    },
    {
      "cell_type": "code",
      "execution_count": null,
      "metadata": {
        "colab": {
          "base_uri": "https://localhost:8080/"
        },
        "id": "jiMfOwCYR_rh",
        "outputId": "9f349d3a-457a-4b2b-a9ea-453a5129c0dc"
      },
      "outputs": [
        {
          "output_type": "execute_result",
          "data": {
            "text/plain": [
              "{'cats': 0, 'dogs': 1}"
            ]
          },
          "metadata": {},
          "execution_count": 22
        }
      ],
      "source": [
        "train_data.class_indices"
      ]
    },
    {
      "cell_type": "code",
      "execution_count": null,
      "metadata": {
        "id": "ZwRTCnopebG0"
      },
      "outputs": [],
      "source": [
        "test_datagen=ImageDataGenerator(rescale=1/255)"
      ]
    },
    {
      "cell_type": "code",
      "execution_count": null,
      "metadata": {
        "id": "VWyuqG_hkvhl",
        "colab": {
          "base_uri": "https://localhost:8080/"
        },
        "outputId": "a6b8c253-219f-4761-b75c-56aca995fe72"
      },
      "outputs": [
        {
          "output_type": "stream",
          "name": "stdout",
          "text": [
            "Found 2053 images belonging to 2 classes.\n"
          ]
        }
      ],
      "source": [
        "test_data=test_datagen.flow_from_directory(directory=test_dir,class_mode='binary',target_size=(150,150))"
      ]
    },
    {
      "cell_type": "code",
      "source": [
        "model=Sequential()"
      ],
      "metadata": {
        "id": "PBZM_Mp3KvNc"
      },
      "execution_count": null,
      "outputs": []
    },
    {
      "cell_type": "code",
      "source": [
        "model.add(Conv2D(filters=16,kernel_size=(3,3),padding='same',activation='relu',input_shape=(150,150,3)))"
      ],
      "metadata": {
        "id": "aAryiqztKvQ1"
      },
      "execution_count": null,
      "outputs": []
    },
    {
      "cell_type": "code",
      "source": [
        "model.add(Conv2D(filters=32,kernel_size=(3,3),padding='same',activation='relu',input_shape=(150,150,3)))"
      ],
      "metadata": {
        "id": "_ZPCFs9rLwOb"
      },
      "execution_count": null,
      "outputs": []
    },
    {
      "cell_type": "code",
      "source": [
        "model.add(MaxPool2D(pool_size=(2,2)))"
      ],
      "metadata": {
        "id": "Uk4RFqXkLwRD"
      },
      "execution_count": null,
      "outputs": []
    },
    {
      "cell_type": "code",
      "source": [
        "model.add(Conv2D(filters=64,kernel_size=(3,3),activation='relu'))"
      ],
      "metadata": {
        "id": "JBwW8Gb0LwUh"
      },
      "execution_count": null,
      "outputs": []
    },
    {
      "cell_type": "code",
      "source": [
        "model.add(MaxPool2D(pool_size=(2,2)))"
      ],
      "metadata": {
        "id": "AAwhZ-3ONFCp"
      },
      "execution_count": null,
      "outputs": []
    },
    {
      "cell_type": "code",
      "source": [
        "model.add(Conv2D(filters=128,kernel_size=(3,3),activation='relu'))"
      ],
      "metadata": {
        "id": "pV077VSoNSEk"
      },
      "execution_count": null,
      "outputs": []
    },
    {
      "cell_type": "code",
      "source": [
        "model.add(MaxPool2D(pool_size=(2,2)))"
      ],
      "metadata": {
        "id": "y16ynCIqNSIH"
      },
      "execution_count": null,
      "outputs": []
    },
    {
      "cell_type": "code",
      "source": [
        "model.add(Dropout(0.25))"
      ],
      "metadata": {
        "id": "pPZfJpTGNZBA"
      },
      "execution_count": null,
      "outputs": []
    },
    {
      "cell_type": "code",
      "source": [
        "model.add(Flatten())"
      ],
      "metadata": {
        "id": "q-6ZhXKPNgv7"
      },
      "execution_count": null,
      "outputs": []
    },
    {
      "cell_type": "code",
      "source": [
        "model.add(Dense(units=64,activation='relu'))"
      ],
      "metadata": {
        "id": "ZcdOgviiNgzh"
      },
      "execution_count": null,
      "outputs": []
    },
    {
      "cell_type": "code",
      "source": [
        "model.add(Dropout(0.3))"
      ],
      "metadata": {
        "id": "x2mS6JI9Nolj"
      },
      "execution_count": null,
      "outputs": []
    },
    {
      "cell_type": "code",
      "source": [
        "model.add(Dense(units=1,activation='sigmoid'))"
      ],
      "metadata": {
        "id": "jKaOFYF4NopG"
      },
      "execution_count": null,
      "outputs": []
    },
    {
      "cell_type": "code",
      "source": [
        "model.compile(optimizer=tf.keras.optimizers.Adam(), \n",
        "              loss='binary_crossentropy',\n",
        "              metrics=['accuracy'])"
      ],
      "metadata": {
        "id": "DPN4mwi2OD1Y"
      },
      "execution_count": null,
      "outputs": []
    },
    {
      "cell_type": "code",
      "source": [
        "model.summary()"
      ],
      "metadata": {
        "id": "uNaWdBYhOGfL",
        "colab": {
          "base_uri": "https://localhost:8080/"
        },
        "outputId": "3f36e00a-f68d-4180-ae6b-3fd6954011c4"
      },
      "execution_count": null,
      "outputs": [
        {
          "output_type": "stream",
          "name": "stdout",
          "text": [
            "Model: \"sequential\"\n",
            "_________________________________________________________________\n",
            " Layer (type)                Output Shape              Param #   \n",
            "=================================================================\n",
            " conv2d (Conv2D)             (None, 150, 150, 16)      448       \n",
            "                                                                 \n",
            " conv2d_1 (Conv2D)           (None, 150, 150, 32)      4640      \n",
            "                                                                 \n",
            " max_pooling2d (MaxPooling2D  (None, 75, 75, 32)       0         \n",
            " )                                                               \n",
            "                                                                 \n",
            " conv2d_2 (Conv2D)           (None, 73, 73, 64)        18496     \n",
            "                                                                 \n",
            " max_pooling2d_1 (MaxPooling  (None, 36, 36, 64)       0         \n",
            " 2D)                                                             \n",
            "                                                                 \n",
            " conv2d_3 (Conv2D)           (None, 34, 34, 128)       73856     \n",
            "                                                                 \n",
            " max_pooling2d_2 (MaxPooling  (None, 17, 17, 128)      0         \n",
            " 2D)                                                             \n",
            "                                                                 \n",
            " dropout (Dropout)           (None, 17, 17, 128)       0         \n",
            "                                                                 \n",
            " flatten (Flatten)           (None, 36992)             0         \n",
            "                                                                 \n",
            " dense (Dense)               (None, 64)                2367552   \n",
            "                                                                 \n",
            " dropout_1 (Dropout)         (None, 64)                0         \n",
            "                                                                 \n",
            " dense_1 (Dense)             (None, 1)                 65        \n",
            "                                                                 \n",
            "=================================================================\n",
            "Total params: 2,465,057\n",
            "Trainable params: 2,465,057\n",
            "Non-trainable params: 0\n",
            "_________________________________________________________________\n"
          ]
        }
      ]
    },
    {
      "cell_type": "code",
      "source": [
        "model.fit(train_data,validation_data=test_data,epochs=15,batch_size=251)"
      ],
      "metadata": {
        "id": "bBYPWlKQOGiu",
        "colab": {
          "base_uri": "https://localhost:8080/"
        },
        "outputId": "b1f6d8f3-542c-46b0-ec8f-acb45488496d"
      },
      "execution_count": null,
      "outputs": [
        {
          "output_type": "stream",
          "name": "stdout",
          "text": [
            "Epoch 1/15\n",
            "253/253 [==============================] - 1610s 6s/step - loss: 0.6905 - accuracy: 0.5447 - val_loss: 0.7072 - val_accuracy: 0.5144\n",
            "Epoch 2/15\n",
            "253/253 [==============================] - 785s 3s/step - loss: 0.6694 - accuracy: 0.5951 - val_loss: 0.6623 - val_accuracy: 0.6322\n",
            "Epoch 3/15\n",
            "253/253 [==============================] - 786s 3s/step - loss: 0.6316 - accuracy: 0.6479 - val_loss: 0.6104 - val_accuracy: 0.6732\n",
            "Epoch 4/15\n",
            "253/253 [==============================] - 772s 3s/step - loss: 0.6091 - accuracy: 0.6743 - val_loss: 0.6197 - val_accuracy: 0.6201\n",
            "Epoch 5/15\n",
            "253/253 [==============================] - 775s 3s/step - loss: 0.5768 - accuracy: 0.6997 - val_loss: 0.5480 - val_accuracy: 0.7336\n",
            "Epoch 6/15\n",
            "253/253 [==============================] - 752s 3s/step - loss: 0.5571 - accuracy: 0.7153 - val_loss: 0.5525 - val_accuracy: 0.7243\n",
            "Epoch 7/15\n",
            "253/253 [==============================] - 794s 3s/step - loss: 0.5397 - accuracy: 0.7255 - val_loss: 0.5142 - val_accuracy: 0.7516\n",
            "Epoch 8/15\n",
            "253/253 [==============================] - 782s 3s/step - loss: 0.5165 - accuracy: 0.7451 - val_loss: 0.5000 - val_accuracy: 0.7560\n",
            "Epoch 9/15\n",
            "253/253 [==============================] - 749s 3s/step - loss: 0.4976 - accuracy: 0.7646 - val_loss: 0.5134 - val_accuracy: 0.7472\n",
            "Epoch 10/15\n",
            "253/253 [==============================] - 785s 3s/step - loss: 0.4722 - accuracy: 0.7776 - val_loss: 0.5523 - val_accuracy: 0.7453\n",
            "Epoch 11/15\n",
            "253/253 [==============================] - 779s 3s/step - loss: 0.4533 - accuracy: 0.7894 - val_loss: 0.4850 - val_accuracy: 0.7867\n",
            "Epoch 12/15\n",
            "253/253 [==============================] - 753s 3s/step - loss: 0.4359 - accuracy: 0.8011 - val_loss: 0.4590 - val_accuracy: 0.7983\n",
            "Epoch 13/15\n",
            "253/253 [==============================] - 755s 3s/step - loss: 0.4273 - accuracy: 0.8033 - val_loss: 0.4699 - val_accuracy: 0.7954\n",
            "Epoch 14/15\n",
            "253/253 [==============================] - 788s 3s/step - loss: 0.4126 - accuracy: 0.8153 - val_loss: 0.4649 - val_accuracy: 0.7881\n",
            "Epoch 15/15\n",
            "253/253 [==============================] - 783s 3s/step - loss: 0.4064 - accuracy: 0.8132 - val_loss: 0.5667 - val_accuracy: 0.7711\n"
          ]
        },
        {
          "output_type": "execute_result",
          "data": {
            "text/plain": [
              "<keras.callbacks.History at 0x7f03d1deb8b0>"
            ]
          },
          "metadata": {},
          "execution_count": 40
        }
      ]
    },
    {
      "cell_type": "code",
      "source": [
        "from tensorflow.keras.utils import load_img, img_to_array"
      ],
      "metadata": {
        "id": "X836LPeqEA3B"
      },
      "execution_count": null,
      "outputs": []
    },
    {
      "cell_type": "code",
      "source": [
        "pil=load_img(r'/content/drive/MyDrive/Colab Notebooks/CatDog/test_set/test_set/cats/cat.4003.jpg',target_size=(150,150))"
      ],
      "metadata": {
        "id": "_O6PefjqnnjJ"
      },
      "execution_count": null,
      "outputs": []
    },
    {
      "cell_type": "code",
      "source": [
        "image=img_to_array(pil)"
      ],
      "metadata": {
        "id": "MxfepMCKnnme"
      },
      "execution_count": null,
      "outputs": []
    },
    {
      "cell_type": "code",
      "source": [
        "import numpy as np"
      ],
      "metadata": {
        "id": "guhBS7cSpd5P"
      },
      "execution_count": null,
      "outputs": []
    },
    {
      "cell_type": "code",
      "source": [
        "image.shape"
      ],
      "metadata": {
        "colab": {
          "base_uri": "https://localhost:8080/"
        },
        "id": "ioFSfpe9pd8b",
        "outputId": "44148727-f83b-4c4a-f702-149644121c00"
      },
      "execution_count": null,
      "outputs": [
        {
          "data": {
            "text/plain": [
              "(150, 150, 3)"
            ]
          },
          "execution_count": 45,
          "metadata": {},
          "output_type": "execute_result"
        }
      ]
    },
    {
      "cell_type": "code",
      "source": [
        "image=image/255"
      ],
      "metadata": {
        "id": "6ckd9z7cpeAD"
      },
      "execution_count": null,
      "outputs": []
    },
    {
      "cell_type": "code",
      "source": [
        "image=np.expand_dims(image,axis=0)"
      ],
      "metadata": {
        "id": "2xM7qvuwpsT8"
      },
      "execution_count": null,
      "outputs": []
    },
    {
      "cell_type": "code",
      "source": [
        "(model.predict(image)>0.5).astype(\"int\")"
      ],
      "metadata": {
        "colab": {
          "base_uri": "https://localhost:8080/"
        },
        "id": "WuxU2bj2p0K4",
        "outputId": "0dfc174c-4b2a-49e9-af03-00701bcf0794"
      },
      "execution_count": null,
      "outputs": [
        {
          "output_type": "stream",
          "name": "stdout",
          "text": [
            "1/1 [==============================] - 0s 40ms/step\n"
          ]
        },
        {
          "output_type": "execute_result",
          "data": {
            "text/plain": [
              "array([[0]])"
            ]
          },
          "metadata": {},
          "execution_count": 53
        }
      ]
    },
    {
      "cell_type": "code",
      "source": [],
      "metadata": {
        "id": "Y3ftI3q_psXh"
      },
      "execution_count": null,
      "outputs": []
    }
  ],
  "metadata": {
    "colab": {
      "provenance": []
    },
    "kernelspec": {
      "display_name": "Python 3",
      "name": "python3"
    },
    "language_info": {
      "name": "python"
    }
  },
  "nbformat": 4,
  "nbformat_minor": 0
}